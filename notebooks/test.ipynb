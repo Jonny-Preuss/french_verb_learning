{
 "cells": [
  {
   "cell_type": "code",
   "execution_count": 1,
   "id": "7e5d79c2",
   "metadata": {},
   "outputs": [],
   "source": [
    "import sys\n",
    "\n",
    "# Absolute path to the folder you want to add\n",
    "path_to_add = '/Users/jonnypreuss/Documents/03_Code/03_Pers/03_French_Verbs/french_verb_learning'\n",
    "\n",
    "# Add it to the Python path if not already present\n",
    "if path_to_add not in sys.path:\n",
    "    sys.path.append(path_to_add)\n",
    "\n",
    "# Now you can import modules from that folder or load data using relative paths from it\n"
   ]
  },
  {
   "cell_type": "code",
   "execution_count": 2,
   "id": "dc2fce70",
   "metadata": {},
   "outputs": [
    {
     "name": "stderr",
     "output_type": "stream",
     "text": [
      "2025-06-01 14:39:36.120 WARNING streamlit.runtime.caching.cache_data_api: No runtime found, using MemoryCacheStorageManager\n"
     ]
    }
   ],
   "source": [
    "from src import config as con\n",
    "from src import load_data as load\n",
    "from src import select_input as input"
   ]
  },
  {
   "cell_type": "code",
   "execution_count": 3,
   "id": "c18d0f91",
   "metadata": {},
   "outputs": [],
   "source": [
    "import pandas as pd\n",
    "from openpyxl import load_workbook\n",
    "import random"
   ]
  },
  {
   "cell_type": "code",
   "execution_count": 15,
   "id": "ec65c848",
   "metadata": {},
   "outputs": [],
   "source": [
    "EXCEL_FILE = \"../data/Top_1000_verbs_French_USE.xlsx\""
   ]
  },
  {
   "cell_type": "code",
   "execution_count": 16,
   "id": "e464b7c6",
   "metadata": {},
   "outputs": [],
   "source": [
    "def load_workbook_sheet():\n",
    "    wb = load_workbook(EXCEL_FILE)\n",
    "    ws = wb.active\n",
    "    return wb, ws"
   ]
  },
  {
   "cell_type": "code",
   "execution_count": 17,
   "id": "e70dac62",
   "metadata": {},
   "outputs": [],
   "source": [
    "wb, ws = load_workbook_sheet()"
   ]
  },
  {
   "cell_type": "code",
   "execution_count": 18,
   "id": "73028bbe",
   "metadata": {},
   "outputs": [
    {
     "data": {
      "text/plain": [
       "<openpyxl.workbook.workbook.Workbook at 0x14c02d370>"
      ]
     },
     "execution_count": 18,
     "metadata": {},
     "output_type": "execute_result"
    }
   ],
   "source": [
    "wb"
   ]
  },
  {
   "cell_type": "code",
   "execution_count": 19,
   "id": "1fb6626c",
   "metadata": {},
   "outputs": [
    {
     "data": {
      "text/plain": [
       "<Worksheet \"Solutions\">"
      ]
     },
     "execution_count": 19,
     "metadata": {},
     "output_type": "execute_result"
    }
   ],
   "source": [
    "ws"
   ]
  },
  {
   "cell_type": "code",
   "execution_count": 20,
   "id": "d120603c",
   "metadata": {},
   "outputs": [],
   "source": [
    "def get_random_task(ws):\n",
    "    rows = range(con.START_ROW, ws.max_row + 1)\n",
    "    # get those rows that have not yet been completed\n",
    "    available_rows = [r for r in rows if str(ws[f\"{con.STATUS_COL}{r}\"].value).strip().lower() != \"true\"]\n",
    "    if not available_rows:\n",
    "        return None, None, None, None\n",
    "\n",
    "    row = random.choice(available_rows)\n",
    "    col = random.choice(con.CONJUGATION_COLS)\n",
    "\n",
    "    # select the verb from the randomly selected row\n",
    "    verb = ws[f\"{con.VERB_COL}{row}\"].value\n",
    "    tense = ws[f\"{col}1\"].value\n",
    "    subject = ws[f\"{col}2\"].value\n",
    "    return row, col, verb, f\"{tense} — {subject}\""
   ]
  },
  {
   "cell_type": "code",
   "execution_count": 21,
   "id": "8b57361c",
   "metadata": {},
   "outputs": [
    {
     "name": "stdout",
     "output_type": "stream",
     "text": [
      "1002\n"
     ]
    }
   ],
   "source": [
    "print(ws.max_row)\n",
    "rows = range(con.START_ROW, ws.max_row + 1)"
   ]
  },
  {
   "cell_type": "code",
   "execution_count": 22,
   "id": "53b1bc60",
   "metadata": {},
   "outputs": [],
   "source": [
    "available_rows = [r for r in rows if str(ws[f\"{con.STATUS_COL}{r}\"].value).strip().lower() != \"true\"]"
   ]
  },
  {
   "cell_type": "code",
   "execution_count": 23,
   "id": "94ed615c",
   "metadata": {},
   "outputs": [],
   "source": [
    "row, col, verb, prompt = get_random_task(ws)"
   ]
  },
  {
   "cell_type": "code",
   "execution_count": 24,
   "id": "6ee4e3df",
   "metadata": {},
   "outputs": [
    {
     "data": {
      "text/plain": [
       "573"
      ]
     },
     "execution_count": 24,
     "metadata": {},
     "output_type": "execute_result"
    }
   ],
   "source": [
    "row"
   ]
  },
  {
   "cell_type": "code",
   "execution_count": 25,
   "id": "20aee056",
   "metadata": {},
   "outputs": [
    {
     "data": {
      "text/plain": [
       "'AR'"
      ]
     },
     "execution_count": 25,
     "metadata": {},
     "output_type": "execute_result"
    }
   ],
   "source": [
    "col"
   ]
  },
  {
   "cell_type": "code",
   "execution_count": 26,
   "id": "4787b81e",
   "metadata": {},
   "outputs": [
    {
     "data": {
      "text/plain": [
       "'repousser'"
      ]
     },
     "execution_count": 26,
     "metadata": {},
     "output_type": "execute_result"
    }
   ],
   "source": [
    "verb"
   ]
  },
  {
   "cell_type": "code",
   "execution_count": 27,
   "id": "ba4b3864",
   "metadata": {},
   "outputs": [
    {
     "data": {
      "text/plain": [
       "'Conditionnel — nous'"
      ]
     },
     "execution_count": 27,
     "metadata": {},
     "output_type": "execute_result"
    }
   ],
   "source": [
    "prompt"
   ]
  },
  {
   "cell_type": "code",
   "execution_count": 28,
   "id": "5c9cf7d2",
   "metadata": {},
   "outputs": [],
   "source": [
    "import mlconjug3\n",
    "from collections.abc import Mapping\n",
    "from collections import defaultdict"
   ]
  },
  {
   "cell_type": "code",
   "execution_count": 30,
   "id": "46b64bfe",
   "metadata": {},
   "outputs": [
    {
     "data": {
      "text/plain": [
       "array(['être', 'avoir'], dtype=object)"
      ]
     },
     "execution_count": 30,
     "metadata": {},
     "output_type": "execute_result"
    }
   ],
   "source": [
    "# Load your Excel verb list\n",
    "df = pd.read_excel(\"../data_prep/Top_1000_verbs_French_empty.xlsx\", sheet_name=\"Top1000\")\n",
    "verbs = df[\"French\"].dropna().unique()\n",
    "verbs[:2]"
   ]
  },
  {
   "cell_type": "code",
   "execution_count": 31,
   "id": "fd869edc",
   "metadata": {},
   "outputs": [],
   "source": [
    "# Conjugator\n",
    "conjugator = mlconjug3.Conjugator(language='fr')\n",
    "\n",
    "# Standard subject order\n",
    "pronoun_order = ['je', 'tu', 'il (elle, on)', 'nous', 'vous', 'ils (elles)']\n",
    "imperative_order = ['tu', 'nous', 'vous']\n",
    "\n",
    "# Subtenses to skip\n",
    "skip_subtenses = {\n",
    "    \"Indicatif\": [\"Passé Simple\"],\n",
    "    \"Subjonctif\": [\"Imparfait\"]\n",
    "}\n",
    "\n",
    "# Output containers\n",
    "rows = []\n",
    "column_tracker = defaultdict(set)\n",
    "form_columns = [\n",
    "    \"Form__participle_present\",\n",
    "    \"Form__participle_past\",\n",
    "    \"Form__participle_past_agreement\",\n",
    "    \"Form__imperative\"\n",
    "]"
   ]
  },
  {
   "cell_type": "code",
   "execution_count": 32,
   "id": "3dac7b21",
   "metadata": {},
   "outputs": [
    {
     "name": "stdout",
     "output_type": "stream",
     "text": [
      "--------------BLOCK 1---------------\n",
      "odict_items([('Infinitif', OrderedDict({'Infinitif Présent': 'être'})), ('Indicatif', OrderedDict({'Présent': OrderedDict({'je': 'suis', 'tu': 'es', 'il (elle, on)': 'est', 'nous': 'sommes', 'vous': 'êtes', 'ils (elles)': 'sont'}), 'Imparfait': OrderedDict({'je': 'étais', 'tu': 'étais', 'il (elle, on)': 'était', 'nous': 'étions', 'vous': 'étiez', 'ils (elles)': 'étaient'}), 'Futur': OrderedDict({'je': 'serai', 'tu': 'seras', 'il (elle, on)': 'sera', 'nous': 'serons', 'vous': 'serez', 'ils (elles)': 'seront'}), 'Passé Simple': OrderedDict({'je': 'fus', 'tu': 'fus', 'il (elle, on)': 'fut', 'nous': 'fûmes', 'vous': 'fûtes', 'ils (elles)': 'furent'})})), ('Conditionnel', OrderedDict({'Présent': OrderedDict({'je': 'serais', 'tu': 'serais', 'il (elle, on)': 'serait', 'nous': 'serions', 'vous': 'seriez', 'ils (elles)': 'seraient'})})), ('Subjonctif', OrderedDict({'Présent': OrderedDict({'je': 'sois', 'tu': 'sois', 'il (elle, on)': 'soit', 'nous': 'soyons', 'vous': 'soyez', 'ils (elles)': 'soient'}), 'Imparfait': OrderedDict({'je': 'fusse', 'tu': 'fusses', 'il (elle, on)': 'fût', 'nous': 'fussions', 'vous': 'fussiez', 'ils (elles)': 'fussent'})})), ('Imperatif', OrderedDict({'Imperatif Présent': OrderedDict({'': 'soyez'})})), ('Participe', OrderedDict({'Participe Présent': 'étant', 'Participe Passé': OrderedDict({'masculin singulier': 'été', 'masculin pluriel': None, 'feminin singulier': None, 'feminin pluriel': None})}))])\n",
      "{'verb': 'être'}\n",
      "\n",
      "--------------BLOCK 2---------------\n",
      "OrderedDict({'Participe Présent': 'étant', 'Participe Passé': OrderedDict({'masculin singulier': 'été', 'masculin pluriel': None, 'feminin singulier': None, 'feminin pluriel': None})})\n",
      "étant\n",
      "\n",
      "--------------BLOCK 3---------------\n",
      "OrderedDict({'masculin singulier': 'été', 'masculin pluriel': None, 'feminin singulier': None, 'feminin pluriel': None})\n",
      "été\n",
      "\n",
      "--------------BLOCK 4---------------\n",
      "False\n",
      "-\n",
      "\n",
      "--------------BLOCK 5---------------\n",
      "OrderedDict({'': 'soyez'})\n",
      "soyez\n",
      "soyez\n",
      "\n",
      "--------------MOODS BLOCK---------------\n",
      "Mood: Infinitif\n",
      "Mood Data: OrderedDict({'Infinitif Présent': 'être'})\n",
      "Case 2\n",
      "Mood: Indicatif\n",
      "Mood Data: OrderedDict({'Présent': OrderedDict({'je': 'suis', 'tu': 'es', 'il (elle, on)': 'est', 'nous': 'sommes', 'vous': 'êtes', 'ils (elles)': 'sont'}), 'Imparfait': OrderedDict({'je': 'étais', 'tu': 'étais', 'il (elle, on)': 'était', 'nous': 'étions', 'vous': 'étiez', 'ils (elles)': 'étaient'}), 'Futur': OrderedDict({'je': 'serai', 'tu': 'seras', 'il (elle, on)': 'sera', 'nous': 'serons', 'vous': 'serez', 'ils (elles)': 'seront'}), 'Passé Simple': OrderedDict({'je': 'fus', 'tu': 'fus', 'il (elle, on)': 'fut', 'nous': 'fûmes', 'vous': 'fûtes', 'ils (elles)': 'furent'})})\n",
      "Case 1\n",
      "Subtense: Présent\n",
      "Subtense: Imparfait\n",
      "Subtense: Futur\n",
      "Subtense: Passé Simple\n",
      "Mood: Conditionnel\n",
      "Mood Data: OrderedDict({'Présent': OrderedDict({'je': 'serais', 'tu': 'serais', 'il (elle, on)': 'serait', 'nous': 'serions', 'vous': 'seriez', 'ils (elles)': 'seraient'})})\n",
      "Case 1\n",
      "Subtense: Présent\n",
      "Mood: Subjonctif\n",
      "Mood Data: OrderedDict({'Présent': OrderedDict({'je': 'sois', 'tu': 'sois', 'il (elle, on)': 'soit', 'nous': 'soyons', 'vous': 'soyez', 'ils (elles)': 'soient'}), 'Imparfait': OrderedDict({'je': 'fusse', 'tu': 'fusses', 'il (elle, on)': 'fût', 'nous': 'fussions', 'vous': 'fussiez', 'ils (elles)': 'fussent'})})\n",
      "Case 1\n",
      "Subtense: Présent\n",
      "Subtense: Imparfait\n",
      "Mood: Imperatif\n",
      "Mood Data: OrderedDict({'Imperatif Présent': OrderedDict({'': 'soyez'})})\n",
      "Case 1\n",
      "Subtense: Imperatif Présent\n",
      "Mood: Participe\n",
      "Mood Data: OrderedDict({'Participe Présent': 'étant', 'Participe Passé': OrderedDict({'masculin singulier': 'été', 'masculin pluriel': None, 'feminin singulier': None, 'feminin pluriel': None})})\n",
      "Case 2\n",
      "ROWS!!! {'verb': 'être', 'Form__participle_present': 'étant', 'Form__participle_past': 'été', 'Form__participle_past_agreement': '-', 'Form__imperative': 'soyez', 'Indicatif__Présent__je': 'suis', 'Indicatif__Présent__tu': 'es', 'Indicatif__Présent__il (elle, on)': 'est', 'Indicatif__Présent__nous': 'sommes', 'Indicatif__Présent__vous': 'êtes', 'Indicatif__Présent__ils (elles)': 'sont', 'Indicatif__Imparfait__je': 'étais', 'Indicatif__Imparfait__tu': 'étais', 'Indicatif__Imparfait__il (elle, on)': 'était', 'Indicatif__Imparfait__nous': 'étions', 'Indicatif__Imparfait__vous': 'étiez', 'Indicatif__Imparfait__ils (elles)': 'étaient', 'Indicatif__Futur__je': 'serai', 'Indicatif__Futur__tu': 'seras', 'Indicatif__Futur__il (elle, on)': 'sera', 'Indicatif__Futur__nous': 'serons', 'Indicatif__Futur__vous': 'serez', 'Indicatif__Futur__ils (elles)': 'seront', 'Conditionnel__Présent__je': 'serais', 'Conditionnel__Présent__tu': 'serais', 'Conditionnel__Présent__il (elle, on)': 'serait', 'Conditionnel__Présent__nous': 'serions', 'Conditionnel__Présent__vous': 'seriez', 'Conditionnel__Présent__ils (elles)': 'seraient', 'Subjonctif__Présent__je': 'sois', 'Subjonctif__Présent__tu': 'sois', 'Subjonctif__Présent__il (elle, on)': 'soit', 'Subjonctif__Présent__nous': 'soyons', 'Subjonctif__Présent__vous': 'soyez', 'Subjonctif__Présent__ils (elles)': 'soient'}\n",
      "--------------BLOCK 1---------------\n",
      "odict_items([('Infinitif', OrderedDict({'Infinitif Présent': 'avoir'})), ('Indicatif', OrderedDict({'Présent': OrderedDict({'je': 'ai', 'tu': 'as', 'il (elle, on)': 'a', 'nous': 'avons', 'vous': 'avez', 'ils (elles)': 'ont'}), 'Imparfait': OrderedDict({'je': 'avais', 'tu': 'avais', 'il (elle, on)': 'avait', 'nous': 'avions', 'vous': 'aviez', 'ils (elles)': 'avaient'}), 'Futur': OrderedDict({'je': 'aurai', 'tu': 'auras', 'il (elle, on)': 'aura', 'nous': 'aurons', 'vous': 'aurez', 'ils (elles)': 'auront'}), 'Passé Simple': OrderedDict({'je': 'eus', 'tu': 'eus', 'il (elle, on)': 'eut', 'nous': 'eûmes', 'vous': 'eûtes', 'ils (elles)': 'eurent'})})), ('Conditionnel', OrderedDict({'Présent': OrderedDict({'je': 'aurais', 'tu': 'aurais', 'il (elle, on)': 'aurait', 'nous': 'aurions', 'vous': 'auriez', 'ils (elles)': 'auraient'})})), ('Subjonctif', OrderedDict({'Présent': OrderedDict({'je': 'aie', 'tu': 'aies', 'il (elle, on)': 'ait', 'nous': 'ayons', 'vous': 'ayez', 'ils (elles)': 'aient'}), 'Imparfait': OrderedDict({'je': 'eusse', 'tu': 'eusses', 'il (elle, on)': 'eût', 'nous': 'eussions', 'vous': 'eussiez', 'ils (elles)': 'eussent'})})), ('Imperatif', OrderedDict({'Imperatif Présent': OrderedDict({'': 'ayez'})})), ('Participe', OrderedDict({'Participe Présent': 'ayant', 'Participe Passé': OrderedDict({'masculin singulier': 'eu', 'masculin pluriel': 'eus', 'feminin singulier': 'eue', 'feminin pluriel': 'eues'})}))])\n",
      "{'verb': 'avoir'}\n",
      "\n",
      "--------------BLOCK 2---------------\n",
      "OrderedDict({'Participe Présent': 'ayant', 'Participe Passé': OrderedDict({'masculin singulier': 'eu', 'masculin pluriel': 'eus', 'feminin singulier': 'eue', 'feminin pluriel': 'eues'})})\n",
      "ayant\n",
      "\n",
      "--------------BLOCK 3---------------\n",
      "OrderedDict({'masculin singulier': 'eu', 'masculin pluriel': 'eus', 'feminin singulier': 'eue', 'feminin pluriel': 'eues'})\n",
      "eu\n",
      "\n",
      "--------------BLOCK 4---------------\n",
      "True\n",
      "+ /-e/-s/-es\n",
      "\n",
      "--------------BLOCK 5---------------\n",
      "OrderedDict({'': 'ayez'})\n",
      "ayez\n",
      "ayez\n",
      "\n",
      "--------------MOODS BLOCK---------------\n",
      "Mood: Infinitif\n",
      "Mood Data: OrderedDict({'Infinitif Présent': 'avoir'})\n",
      "Case 2\n",
      "Mood: Indicatif\n",
      "Mood Data: OrderedDict({'Présent': OrderedDict({'je': 'ai', 'tu': 'as', 'il (elle, on)': 'a', 'nous': 'avons', 'vous': 'avez', 'ils (elles)': 'ont'}), 'Imparfait': OrderedDict({'je': 'avais', 'tu': 'avais', 'il (elle, on)': 'avait', 'nous': 'avions', 'vous': 'aviez', 'ils (elles)': 'avaient'}), 'Futur': OrderedDict({'je': 'aurai', 'tu': 'auras', 'il (elle, on)': 'aura', 'nous': 'aurons', 'vous': 'aurez', 'ils (elles)': 'auront'}), 'Passé Simple': OrderedDict({'je': 'eus', 'tu': 'eus', 'il (elle, on)': 'eut', 'nous': 'eûmes', 'vous': 'eûtes', 'ils (elles)': 'eurent'})})\n",
      "Case 1\n",
      "Subtense: Présent\n",
      "Subtense: Imparfait\n",
      "Subtense: Futur\n",
      "Subtense: Passé Simple\n",
      "Mood: Conditionnel\n",
      "Mood Data: OrderedDict({'Présent': OrderedDict({'je': 'aurais', 'tu': 'aurais', 'il (elle, on)': 'aurait', 'nous': 'aurions', 'vous': 'auriez', 'ils (elles)': 'auraient'})})\n",
      "Case 1\n",
      "Subtense: Présent\n",
      "Mood: Subjonctif\n",
      "Mood Data: OrderedDict({'Présent': OrderedDict({'je': 'aie', 'tu': 'aies', 'il (elle, on)': 'ait', 'nous': 'ayons', 'vous': 'ayez', 'ils (elles)': 'aient'}), 'Imparfait': OrderedDict({'je': 'eusse', 'tu': 'eusses', 'il (elle, on)': 'eût', 'nous': 'eussions', 'vous': 'eussiez', 'ils (elles)': 'eussent'})})\n",
      "Case 1\n",
      "Subtense: Présent\n",
      "Subtense: Imparfait\n",
      "Mood: Imperatif\n",
      "Mood Data: OrderedDict({'Imperatif Présent': OrderedDict({'': 'ayez'})})\n",
      "Case 1\n",
      "Subtense: Imperatif Présent\n",
      "Mood: Participe\n",
      "Mood Data: OrderedDict({'Participe Présent': 'ayant', 'Participe Passé': OrderedDict({'masculin singulier': 'eu', 'masculin pluriel': 'eus', 'feminin singulier': 'eue', 'feminin pluriel': 'eues'})})\n",
      "Case 2\n",
      "ROWS!!! {'verb': 'avoir', 'Form__participle_present': 'ayant', 'Form__participle_past': 'eu', 'Form__participle_past_agreement': '+ /-e/-s/-es', 'Form__imperative': 'ayez', 'Indicatif__Présent__je': 'ai', 'Indicatif__Présent__tu': 'as', 'Indicatif__Présent__il (elle, on)': 'a', 'Indicatif__Présent__nous': 'avons', 'Indicatif__Présent__vous': 'avez', 'Indicatif__Présent__ils (elles)': 'ont', 'Indicatif__Imparfait__je': 'avais', 'Indicatif__Imparfait__tu': 'avais', 'Indicatif__Imparfait__il (elle, on)': 'avait', 'Indicatif__Imparfait__nous': 'avions', 'Indicatif__Imparfait__vous': 'aviez', 'Indicatif__Imparfait__ils (elles)': 'avaient', 'Indicatif__Futur__je': 'aurai', 'Indicatif__Futur__tu': 'auras', 'Indicatif__Futur__il (elle, on)': 'aura', 'Indicatif__Futur__nous': 'aurons', 'Indicatif__Futur__vous': 'aurez', 'Indicatif__Futur__ils (elles)': 'auront', 'Conditionnel__Présent__je': 'aurais', 'Conditionnel__Présent__tu': 'aurais', 'Conditionnel__Présent__il (elle, on)': 'aurait', 'Conditionnel__Présent__nous': 'aurions', 'Conditionnel__Présent__vous': 'auriez', 'Conditionnel__Présent__ils (elles)': 'auraient', 'Subjonctif__Présent__je': 'aie', 'Subjonctif__Présent__tu': 'aies', 'Subjonctif__Présent__il (elle, on)': 'ait', 'Subjonctif__Présent__nous': 'ayons', 'Subjonctif__Présent__vous': 'ayez', 'Subjonctif__Présent__ils (elles)': 'aient'}\n"
     ]
    }
   ],
   "source": [
    "i=0\n",
    "for verb in verbs[:2]:\n",
    "    try:\n",
    "        print(\"--------------BLOCK 1---------------\")\n",
    "        conj = conjugator.conjugate(verb)\n",
    "        print(conj.conjug_info.items())\n",
    "        flat = {\"verb\": verb}\n",
    "        print(flat)\n",
    "        print()\n",
    "\n",
    "        # Extract Participe forms\n",
    "        print(\"--------------BLOCK 2---------------\")\n",
    "        participe_data = conj.conjug_info.get(\"Participe\", {})\n",
    "        print(participe_data)\n",
    "        flat[\"Form__participle_present\"] = participe_data.get(\"Participe Présent\", \"-\")\n",
    "        print(flat[\"Form__participle_present\"])\n",
    "        print()\n",
    "\n",
    "        print(\"--------------BLOCK 3---------------\")\n",
    "        pp_dict = participe_data.get(\"Participe Passé\", {})\n",
    "        print(pp_dict)\n",
    "        flat[\"Form__participle_past\"] = pp_dict.get(\"masculin singulier\", \"-\")\n",
    "        print(flat[\"Form__participle_past\"])\n",
    "        print()\n",
    "\n",
    "        print(\"--------------BLOCK 4---------------\")\n",
    "        has_agreement = any(pp_dict.get(k) not in [None, \"-\", \"\"] for k in[\"masculin pluriel\", \"feminin singulier\", \"feminin pluriel\"])\n",
    "        print(has_agreement)\n",
    "        flat[\"Form__participle_past_agreement\"] = \"+ /-e/-s/-es\" if has_agreement else \"-\"\n",
    "        print(flat[\"Form__participle_past_agreement\"])\n",
    "        print()\n",
    "\n",
    "        print(\"--------------BLOCK 5---------------\")\n",
    "        # --- Imperatif Handling (simple: always one form, use 'vous') ---\n",
    "        imperatif_data = conj.conjug_info.get(\"Imperatif\", {}).get(\"Imperatif Présent\", {})\n",
    "        print(imperatif_data)\n",
    "        imperative_form = imperatif_data.get(\"\", None)\n",
    "        print(imperative_form)\n",
    "        flat[\"Form__imperative\"] = imperative_form if imperative_form else \"-\"\n",
    "        print(flat[\"Form__imperative\"])\n",
    "        print()\n",
    "\n",
    "        print(\"--------------MOODS BLOCK---------------\")\n",
    "        # Handle moods\n",
    "        for mood, mood_data in conj.conjug_info.items():\n",
    "            print(f\"Mood: {mood}\")\n",
    "            print(f\"Mood Data: {mood_data}\")\n",
    "\n",
    "            # Case 1: mood → subtense → pronoun\n",
    "            # checks if mood_data is a dictionary and if every value in it is also a dict\n",
    "            # because in that case the mood value would have subtenses\n",
    "            if isinstance(mood_data, Mapping) and all(isinstance(v, Mapping) for v in mood_data.values()):\n",
    "                print(\"Case 1\")\n",
    "                # now we check those subtenses and the corresponding conjugations\n",
    "                for subtense, persons in mood_data.items():\n",
    "                    print(f\"Subtense: {subtense}\")\n",
    "                    # print(persons)\n",
    "                    # persons is just the dict with \"je\": \"conjugtion1\"...and so on\n",
    "                    # print(subtense.get(mood))\n",
    "                    if subtense in skip_subtenses.get(mood, []):\n",
    "                        continue\n",
    "                    for pronoun in pronoun_order:\n",
    "                        if pronoun in persons:\n",
    "                            col = f\"{mood}__{subtense}__{pronoun}\"\n",
    "                            # print(f\"Col: {col}\")\n",
    "                            flat[col] = persons[pronoun]\n",
    "                            # print(f\"flat[col]: {flat[col]}\")\n",
    "                            column_tracker[(mood, subtense)].add(pronoun)\n",
    "\n",
    "            # Case 2: Imperatif or other flat tense\n",
    "            elif isinstance(mood_data, Mapping):\n",
    "                print(\"Case 2\")\n",
    "                for subtense, persons in mood_data.items():\n",
    "                    for pronoun in imperative_order:\n",
    "                        if pronoun in persons:\n",
    "                            col = f\"{mood}__{subtense}__{pronoun}\"\n",
    "                            flat[col] = persons[pronoun]\n",
    "                            column_tracker[(mood, subtense)].add(pronoun)\n",
    "\n",
    "        rows.append(flat)\n",
    "        print(f\"ROWS!!! {rows[i]}\")\n",
    "        i+=1\n",
    "\n",
    "    except Exception as e:\n",
    "        print(f\"❌ Could not conjugate '{verb}': {e}\")"
   ]
  },
  {
   "cell_type": "code",
   "execution_count": 21,
   "id": "ae600639",
   "metadata": {},
   "outputs": [
    {
     "data": {
      "text/plain": [
       "[{'verb': 'être',\n",
       "  'Form__participle_present': 'étant',\n",
       "  'Form__participle_past': 'été',\n",
       "  'Form__participle_past_agreement': '-',\n",
       "  'Form__imperative': 'soyez',\n",
       "  'Indicatif__Présent__je': 'suis',\n",
       "  'Indicatif__Présent__tu': 'es',\n",
       "  'Indicatif__Présent__il (elle, on)': 'est',\n",
       "  'Indicatif__Présent__nous': 'sommes',\n",
       "  'Indicatif__Présent__vous': 'êtes',\n",
       "  'Indicatif__Présent__ils (elles)': 'sont',\n",
       "  'Indicatif__Imparfait__je': 'étais',\n",
       "  'Indicatif__Imparfait__tu': 'étais',\n",
       "  'Indicatif__Imparfait__il (elle, on)': 'était',\n",
       "  'Indicatif__Imparfait__nous': 'étions',\n",
       "  'Indicatif__Imparfait__vous': 'étiez',\n",
       "  'Indicatif__Imparfait__ils (elles)': 'étaient',\n",
       "  'Indicatif__Futur__je': 'serai',\n",
       "  'Indicatif__Futur__tu': 'seras',\n",
       "  'Indicatif__Futur__il (elle, on)': 'sera',\n",
       "  'Indicatif__Futur__nous': 'serons',\n",
       "  'Indicatif__Futur__vous': 'serez',\n",
       "  'Indicatif__Futur__ils (elles)': 'seront',\n",
       "  'Conditionnel__Présent__je': 'serais',\n",
       "  'Conditionnel__Présent__tu': 'serais',\n",
       "  'Conditionnel__Présent__il (elle, on)': 'serait',\n",
       "  'Conditionnel__Présent__nous': 'serions',\n",
       "  'Conditionnel__Présent__vous': 'seriez',\n",
       "  'Conditionnel__Présent__ils (elles)': 'seraient',\n",
       "  'Subjonctif__Présent__je': 'sois',\n",
       "  'Subjonctif__Présent__tu': 'sois',\n",
       "  'Subjonctif__Présent__il (elle, on)': 'soit',\n",
       "  'Subjonctif__Présent__nous': 'soyons',\n",
       "  'Subjonctif__Présent__vous': 'soyez',\n",
       "  'Subjonctif__Présent__ils (elles)': 'soient'},\n",
       " {'verb': 'avoir',\n",
       "  'Form__participle_present': 'ayant',\n",
       "  'Form__participle_past': 'eu',\n",
       "  'Form__participle_past_agreement': '+ /-e/-s/-es',\n",
       "  'Form__imperative': 'ayez',\n",
       "  'Indicatif__Présent__je': 'ai',\n",
       "  'Indicatif__Présent__tu': 'as',\n",
       "  'Indicatif__Présent__il (elle, on)': 'a',\n",
       "  'Indicatif__Présent__nous': 'avons',\n",
       "  'Indicatif__Présent__vous': 'avez',\n",
       "  'Indicatif__Présent__ils (elles)': 'ont',\n",
       "  'Indicatif__Imparfait__je': 'avais',\n",
       "  'Indicatif__Imparfait__tu': 'avais',\n",
       "  'Indicatif__Imparfait__il (elle, on)': 'avait',\n",
       "  'Indicatif__Imparfait__nous': 'avions',\n",
       "  'Indicatif__Imparfait__vous': 'aviez',\n",
       "  'Indicatif__Imparfait__ils (elles)': 'avaient',\n",
       "  'Indicatif__Futur__je': 'aurai',\n",
       "  'Indicatif__Futur__tu': 'auras',\n",
       "  'Indicatif__Futur__il (elle, on)': 'aura',\n",
       "  'Indicatif__Futur__nous': 'aurons',\n",
       "  'Indicatif__Futur__vous': 'aurez',\n",
       "  'Indicatif__Futur__ils (elles)': 'auront',\n",
       "  'Conditionnel__Présent__je': 'aurais',\n",
       "  'Conditionnel__Présent__tu': 'aurais',\n",
       "  'Conditionnel__Présent__il (elle, on)': 'aurait',\n",
       "  'Conditionnel__Présent__nous': 'aurions',\n",
       "  'Conditionnel__Présent__vous': 'auriez',\n",
       "  'Conditionnel__Présent__ils (elles)': 'auraient',\n",
       "  'Subjonctif__Présent__je': 'aie',\n",
       "  'Subjonctif__Présent__tu': 'aies',\n",
       "  'Subjonctif__Présent__il (elle, on)': 'ait',\n",
       "  'Subjonctif__Présent__nous': 'ayons',\n",
       "  'Subjonctif__Présent__vous': 'ayez',\n",
       "  'Subjonctif__Présent__ils (elles)': 'aient'}]"
      ]
     },
     "execution_count": 21,
     "metadata": {},
     "output_type": "execute_result"
    }
   ],
   "source": [
    "rows"
   ]
  },
  {
   "cell_type": "code",
   "execution_count": 22,
   "id": "c82ecc87",
   "metadata": {},
   "outputs": [],
   "source": [
    "df_out = pd.DataFrame(rows)"
   ]
  },
  {
   "cell_type": "code",
   "execution_count": 23,
   "id": "75479df3",
   "metadata": {},
   "outputs": [
    {
     "data": {
      "text/html": [
       "<div>\n",
       "<style scoped>\n",
       "    .dataframe tbody tr th:only-of-type {\n",
       "        vertical-align: middle;\n",
       "    }\n",
       "\n",
       "    .dataframe tbody tr th {\n",
       "        vertical-align: top;\n",
       "    }\n",
       "\n",
       "    .dataframe thead th {\n",
       "        text-align: right;\n",
       "    }\n",
       "</style>\n",
       "<table border=\"1\" class=\"dataframe\">\n",
       "  <thead>\n",
       "    <tr style=\"text-align: right;\">\n",
       "      <th></th>\n",
       "      <th>verb</th>\n",
       "      <th>Form__participle_present</th>\n",
       "      <th>Form__participle_past</th>\n",
       "      <th>Form__participle_past_agreement</th>\n",
       "      <th>Form__imperative</th>\n",
       "      <th>Indicatif__Présent__je</th>\n",
       "      <th>Indicatif__Présent__tu</th>\n",
       "      <th>Indicatif__Présent__il (elle, on)</th>\n",
       "      <th>Indicatif__Présent__nous</th>\n",
       "      <th>Indicatif__Présent__vous</th>\n",
       "      <th>...</th>\n",
       "      <th>Conditionnel__Présent__il (elle, on)</th>\n",
       "      <th>Conditionnel__Présent__nous</th>\n",
       "      <th>Conditionnel__Présent__vous</th>\n",
       "      <th>Conditionnel__Présent__ils (elles)</th>\n",
       "      <th>Subjonctif__Présent__je</th>\n",
       "      <th>Subjonctif__Présent__tu</th>\n",
       "      <th>Subjonctif__Présent__il (elle, on)</th>\n",
       "      <th>Subjonctif__Présent__nous</th>\n",
       "      <th>Subjonctif__Présent__vous</th>\n",
       "      <th>Subjonctif__Présent__ils (elles)</th>\n",
       "    </tr>\n",
       "  </thead>\n",
       "  <tbody>\n",
       "    <tr>\n",
       "      <th>0</th>\n",
       "      <td>être</td>\n",
       "      <td>étant</td>\n",
       "      <td>été</td>\n",
       "      <td>-</td>\n",
       "      <td>soyez</td>\n",
       "      <td>suis</td>\n",
       "      <td>es</td>\n",
       "      <td>est</td>\n",
       "      <td>sommes</td>\n",
       "      <td>êtes</td>\n",
       "      <td>...</td>\n",
       "      <td>serait</td>\n",
       "      <td>serions</td>\n",
       "      <td>seriez</td>\n",
       "      <td>seraient</td>\n",
       "      <td>sois</td>\n",
       "      <td>sois</td>\n",
       "      <td>soit</td>\n",
       "      <td>soyons</td>\n",
       "      <td>soyez</td>\n",
       "      <td>soient</td>\n",
       "    </tr>\n",
       "    <tr>\n",
       "      <th>1</th>\n",
       "      <td>avoir</td>\n",
       "      <td>ayant</td>\n",
       "      <td>eu</td>\n",
       "      <td>+ /-e/-s/-es</td>\n",
       "      <td>ayez</td>\n",
       "      <td>ai</td>\n",
       "      <td>as</td>\n",
       "      <td>a</td>\n",
       "      <td>avons</td>\n",
       "      <td>avez</td>\n",
       "      <td>...</td>\n",
       "      <td>aurait</td>\n",
       "      <td>aurions</td>\n",
       "      <td>auriez</td>\n",
       "      <td>auraient</td>\n",
       "      <td>aie</td>\n",
       "      <td>aies</td>\n",
       "      <td>ait</td>\n",
       "      <td>ayons</td>\n",
       "      <td>ayez</td>\n",
       "      <td>aient</td>\n",
       "    </tr>\n",
       "  </tbody>\n",
       "</table>\n",
       "<p>2 rows × 35 columns</p>\n",
       "</div>"
      ],
      "text/plain": [
       "    verb Form__participle_present Form__participle_past  \\\n",
       "0   être                    étant                   été   \n",
       "1  avoir                    ayant                    eu   \n",
       "\n",
       "  Form__participle_past_agreement Form__imperative Indicatif__Présent__je  \\\n",
       "0                               -            soyez                   suis   \n",
       "1                    + /-e/-s/-es             ayez                     ai   \n",
       "\n",
       "  Indicatif__Présent__tu Indicatif__Présent__il (elle, on)  \\\n",
       "0                     es                               est   \n",
       "1                     as                                 a   \n",
       "\n",
       "  Indicatif__Présent__nous Indicatif__Présent__vous  ...  \\\n",
       "0                   sommes                     êtes  ...   \n",
       "1                    avons                     avez  ...   \n",
       "\n",
       "  Conditionnel__Présent__il (elle, on) Conditionnel__Présent__nous  \\\n",
       "0                               serait                     serions   \n",
       "1                               aurait                     aurions   \n",
       "\n",
       "  Conditionnel__Présent__vous Conditionnel__Présent__ils (elles)  \\\n",
       "0                      seriez                           seraient   \n",
       "1                      auriez                           auraient   \n",
       "\n",
       "  Subjonctif__Présent__je Subjonctif__Présent__tu  \\\n",
       "0                    sois                    sois   \n",
       "1                     aie                    aies   \n",
       "\n",
       "  Subjonctif__Présent__il (elle, on) Subjonctif__Présent__nous  \\\n",
       "0                               soit                    soyons   \n",
       "1                                ait                     ayons   \n",
       "\n",
       "  Subjonctif__Présent__vous Subjonctif__Présent__ils (elles)  \n",
       "0                     soyez                           soient  \n",
       "1                      ayez                            aient  \n",
       "\n",
       "[2 rows x 35 columns]"
      ]
     },
     "execution_count": 23,
     "metadata": {},
     "output_type": "execute_result"
    }
   ],
   "source": [
    "df_out"
   ]
  },
  {
   "cell_type": "code",
   "execution_count": 39,
   "id": "750bd35c",
   "metadata": {},
   "outputs": [
    {
     "name": "stdout",
     "output_type": "stream",
     "text": [
      "('Conditionnel', 'Présent')\n",
      "{'tu', 'ils (elles)', 'nous', 'vous', 'je', 'il (elle, on)'}\n",
      "('Indicatif', 'Futur')\n",
      "{'tu', 'ils (elles)', 'nous', 'vous', 'je', 'il (elle, on)'}\n",
      "('Indicatif', 'Imparfait')\n",
      "{'tu', 'ils (elles)', 'nous', 'vous', 'je', 'il (elle, on)'}\n",
      "('Indicatif', 'Présent')\n",
      "{'tu', 'ils (elles)', 'nous', 'vous', 'je', 'il (elle, on)'}\n",
      "('Subjonctif', 'Présent')\n",
      "{'tu', 'ils (elles)', 'nous', 'vous', 'je', 'il (elle, on)'}\n"
     ]
    }
   ],
   "source": [
    "# Build ordered columns\n",
    "ordered_columns = [\"verb\"]\n",
    "\n",
    "for (mood, subtense), pronouns in sorted(column_tracker.items()):\n",
    "    print((mood, subtense))\n",
    "    print(pronouns)\n",
    "    if \"imperatif\" in mood.lower():\n",
    "        subject_list = imperative_order\n",
    "    else:\n",
    "        subject_list = pronoun_order\n",
    "\n",
    "    for pronoun in subject_list:\n",
    "        if pronoun in pronouns:\n",
    "            col = f\"{mood}__{subtense}__{pronoun}\"\n",
    "            ordered_columns.append(col)\n",
    "\n",
    "ordered_columns.extend(form_columns)"
   ]
  },
  {
   "cell_type": "code",
   "execution_count": 37,
   "id": "f835a2b3",
   "metadata": {},
   "outputs": [
    {
     "data": {
      "text/plain": [
       "['verb',\n",
       " 'Conditionnel__Présent__je',\n",
       " 'Conditionnel__Présent__tu',\n",
       " 'Conditionnel__Présent__il (elle, on)',\n",
       " 'Conditionnel__Présent__nous',\n",
       " 'Conditionnel__Présent__vous',\n",
       " 'Conditionnel__Présent__ils (elles)',\n",
       " 'Indicatif__Futur__je',\n",
       " 'Indicatif__Futur__tu',\n",
       " 'Indicatif__Futur__il (elle, on)',\n",
       " 'Indicatif__Futur__nous',\n",
       " 'Indicatif__Futur__vous',\n",
       " 'Indicatif__Futur__ils (elles)',\n",
       " 'Indicatif__Imparfait__je',\n",
       " 'Indicatif__Imparfait__tu',\n",
       " 'Indicatif__Imparfait__il (elle, on)',\n",
       " 'Indicatif__Imparfait__nous',\n",
       " 'Indicatif__Imparfait__vous',\n",
       " 'Indicatif__Imparfait__ils (elles)',\n",
       " 'Indicatif__Présent__je',\n",
       " 'Indicatif__Présent__tu',\n",
       " 'Indicatif__Présent__il (elle, on)',\n",
       " 'Indicatif__Présent__nous',\n",
       " 'Indicatif__Présent__vous',\n",
       " 'Indicatif__Présent__ils (elles)',\n",
       " 'Subjonctif__Présent__je',\n",
       " 'Subjonctif__Présent__tu',\n",
       " 'Subjonctif__Présent__il (elle, on)',\n",
       " 'Subjonctif__Présent__nous',\n",
       " 'Subjonctif__Présent__vous',\n",
       " 'Subjonctif__Présent__ils (elles)',\n",
       " 'Form__participle_present',\n",
       " 'Form__participle_past',\n",
       " 'Form__participle_past_agreement',\n",
       " 'Form__imperative']"
      ]
     },
     "execution_count": 37,
     "metadata": {},
     "output_type": "execute_result"
    }
   ],
   "source": [
    "ordered_columns"
   ]
  },
  {
   "cell_type": "code",
   "execution_count": null,
   "id": "0fb22b85",
   "metadata": {},
   "outputs": [],
   "source": [
    "\n",
    "# Final output\n",
    "df_out = pd.DataFrame(rows)\n",
    "df_out = df_out.reindex(columns=ordered_columns).fillna(\"-\")"
   ]
  }
 ],
 "metadata": {
  "kernelspec": {
   "display_name": "frontend_env",
   "language": "python",
   "name": "python3"
  },
  "language_info": {
   "codemirror_mode": {
    "name": "ipython",
    "version": 3
   },
   "file_extension": ".py",
   "mimetype": "text/x-python",
   "name": "python",
   "nbconvert_exporter": "python",
   "pygments_lexer": "ipython3",
   "version": "3.12.9"
  }
 },
 "nbformat": 4,
 "nbformat_minor": 5
}
